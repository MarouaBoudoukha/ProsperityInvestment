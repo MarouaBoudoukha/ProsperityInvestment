{
  "nbformat": 4,
  "nbformat_minor": 0,
  "metadata": {
    "colab": {
      "provenance": [],
      "gpuType": "T4",
      "machine_shape": "hm",
      "toc_visible": true
    },
    "kernelspec": {
      "name": "python3",
      "display_name": "Python 3"
    },
    "language_info": {
      "name": "python"
    },
    "accelerator": "GPU"
  },
  "cells": [
    {
      "cell_type": "markdown",
      "source": [
        "RAPIDS kütüphanelerini kuralım"
      ],
      "metadata": {
        "id": "Eme_XpTjYlOh"
      }
    },
    {
      "cell_type": "code",
      "source": [
        "# RAPIDS kütüphanelerinin kurulumu\n",
        "!pip install cudf-cu12 cugraph-cu12 dask-cudf-cu12"
      ],
      "metadata": {
        "id": "O-eogA60YpTw",
        "outputId": "a29b5960-f083-4b3d-e3c7-965c892e6185",
        "colab": {
          "base_uri": "https://localhost:8080/"
        }
      },
      "execution_count": 6,
      "outputs": [
        {
          "output_type": "stream",
          "name": "stdout",
          "text": [
            "Requirement already satisfied: cudf-cu12 in /usr/local/lib/python3.11/dist-packages (25.2.1)\n",
            "Collecting cugraph-cu12\n",
            "  Downloading cugraph_cu12-25.2.0.tar.gz (4.2 kB)\n",
            "  Installing build dependencies ... \u001b[?25l\u001b[?25hdone\n",
            "  Getting requirements to build wheel ... \u001b[?25l\u001b[?25hdone\n",
            "  Preparing metadata (pyproject.toml) ... \u001b[?25l\u001b[?25hdone\n",
            "Requirement already satisfied: dask-cudf-cu12 in /usr/local/lib/python3.11/dist-packages (25.2.2)\n",
            "Requirement already satisfied: cachetools in /usr/local/lib/python3.11/dist-packages (from cudf-cu12) (5.5.2)\n",
            "Requirement already satisfied: cuda-python<13.0a0,>=12.6.2 in /usr/local/lib/python3.11/dist-packages (from cudf-cu12) (12.6.2.post1)\n",
            "Requirement already satisfied: cupy-cuda12x>=12.0.0 in /usr/local/lib/python3.11/dist-packages (from cudf-cu12) (13.3.0)\n",
            "Requirement already satisfied: fsspec>=0.6.0 in /usr/local/lib/python3.11/dist-packages (from cudf-cu12) (2024.10.0)\n",
            "Requirement already satisfied: libcudf-cu12==25.2.* in /usr/local/lib/python3.11/dist-packages (from cudf-cu12) (25.2.1)\n",
            "Requirement already satisfied: numba-cuda<0.3.0a0,>=0.2.0 in /usr/local/lib/python3.11/dist-packages (from cudf-cu12) (0.2.0)\n",
            "Requirement already satisfied: numba<0.61.0a0,>=0.59.1 in /usr/local/lib/python3.11/dist-packages (from cudf-cu12) (0.60.0)\n",
            "Requirement already satisfied: numpy<3.0a0,>=1.23 in /usr/local/lib/python3.11/dist-packages (from cudf-cu12) (1.26.4)\n",
            "Requirement already satisfied: nvtx>=0.2.1 in /usr/local/lib/python3.11/dist-packages (from cudf-cu12) (0.2.11)\n",
            "Requirement already satisfied: packaging in /usr/local/lib/python3.11/dist-packages (from cudf-cu12) (24.2)\n",
            "Requirement already satisfied: pandas<2.2.4dev0,>=2.0 in /usr/local/lib/python3.11/dist-packages (from cudf-cu12) (2.2.2)\n",
            "Requirement already satisfied: pyarrow<20.0.0a0,>=14.0.0 in /usr/local/lib/python3.11/dist-packages (from cudf-cu12) (18.1.0)\n",
            "Requirement already satisfied: pylibcudf-cu12==25.2.* in /usr/local/lib/python3.11/dist-packages (from cudf-cu12) (25.2.1)\n",
            "Requirement already satisfied: pynvjitlink-cu12 in /usr/local/lib/python3.11/dist-packages (from cudf-cu12) (0.5.0)\n",
            "Requirement already satisfied: rich in /usr/local/lib/python3.11/dist-packages (from cudf-cu12) (13.9.4)\n",
            "Requirement already satisfied: rmm-cu12==25.2.* in /usr/local/lib/python3.11/dist-packages (from cudf-cu12) (25.2.0)\n",
            "Requirement already satisfied: typing_extensions>=4.0.0 in /usr/local/lib/python3.11/dist-packages (from cudf-cu12) (4.12.2)\n",
            "Requirement already satisfied: libkvikio-cu12==25.2.* in /usr/local/lib/python3.11/dist-packages (from libcudf-cu12==25.2.*->cudf-cu12) (25.2.1)\n",
            "Requirement already satisfied: nvidia-nvcomp-cu12==4.2.0.11 in /usr/local/lib/python3.11/dist-packages (from libcudf-cu12==25.2.*->cudf-cu12) (4.2.0.11)\n",
            "Requirement already satisfied: dask-cuda==25.2.* in /usr/local/lib/python3.11/dist-packages (from cugraph-cu12) (25.2.0)\n",
            "Requirement already satisfied: libcugraph-cu12==25.2.* in /usr/local/lib/python3.11/dist-packages (from cugraph-cu12) (25.2.0)\n",
            "Requirement already satisfied: pylibcugraph-cu12==25.2.* in /usr/local/lib/python3.11/dist-packages (from cugraph-cu12) (25.2.0)\n",
            "Requirement already satisfied: pylibraft-cu12==25.2.* in /usr/local/lib/python3.11/dist-packages (from cugraph-cu12) (25.2.0)\n",
            "Requirement already satisfied: raft-dask-cu12==25.2.* in /usr/local/lib/python3.11/dist-packages (from cugraph-cu12) (25.2.0)\n",
            "Requirement already satisfied: rapids-dask-dependency==25.2.* in /usr/local/lib/python3.11/dist-packages (from cugraph-cu12) (25.2.0)\n",
            "Requirement already satisfied: ucx-py-cu12==0.42.* in /usr/local/lib/python3.11/dist-packages (from cugraph-cu12) (0.42.0)\n",
            "Requirement already satisfied: pynvml<13.0.0a0,>=12.0.0 in /usr/local/lib/python3.11/dist-packages (from dask-cudf-cu12) (12.0.0)\n",
            "Requirement already satisfied: click>=8.1 in /usr/local/lib/python3.11/dist-packages (from dask-cuda==25.2.*->cugraph-cu12) (8.1.8)\n",
            "Requirement already satisfied: zict>=2.0.0 in /usr/local/lib/python3.11/dist-packages (from dask-cuda==25.2.*->cugraph-cu12) (3.0.0)\n",
            "Requirement already satisfied: libraft-cu12==25.2.* in /usr/local/lib/python3.11/dist-packages (from libcugraph-cu12==25.2.*->cugraph-cu12) (25.2.0)\n",
            "Requirement already satisfied: distributed-ucxx-cu12==0.42.* in /usr/local/lib/python3.11/dist-packages (from raft-dask-cu12==25.2.*->cugraph-cu12) (0.42.0)\n",
            "Requirement already satisfied: dask==2024.12.1 in /usr/local/lib/python3.11/dist-packages (from rapids-dask-dependency==25.2.*->cugraph-cu12) (2024.12.1)\n",
            "Requirement already satisfied: distributed==2024.12.1 in /usr/local/lib/python3.11/dist-packages (from rapids-dask-dependency==25.2.*->cugraph-cu12) (2024.12.1)\n",
            "Requirement already satisfied: dask-expr==1.1.21 in /usr/local/lib/python3.11/dist-packages (from rapids-dask-dependency==25.2.*->cugraph-cu12) (1.1.21)\n",
            "Requirement already satisfied: libucx-cu12<1.19,>=1.15.0 in /usr/local/lib/python3.11/dist-packages (from ucx-py-cu12==0.42.*->cugraph-cu12) (1.18.0)\n",
            "Requirement already satisfied: cloudpickle>=3.0.0 in /usr/local/lib/python3.11/dist-packages (from dask==2024.12.1->rapids-dask-dependency==25.2.*->cugraph-cu12) (3.1.1)\n",
            "Requirement already satisfied: partd>=1.4.0 in /usr/local/lib/python3.11/dist-packages (from dask==2024.12.1->rapids-dask-dependency==25.2.*->cugraph-cu12) (1.4.2)\n",
            "Requirement already satisfied: pyyaml>=5.3.1 in /usr/local/lib/python3.11/dist-packages (from dask==2024.12.1->rapids-dask-dependency==25.2.*->cugraph-cu12) (6.0.2)\n",
            "Requirement already satisfied: toolz>=0.10.0 in /usr/local/lib/python3.11/dist-packages (from dask==2024.12.1->rapids-dask-dependency==25.2.*->cugraph-cu12) (0.12.1)\n",
            "Requirement already satisfied: importlib_metadata>=4.13.0 in /usr/local/lib/python3.11/dist-packages (from dask==2024.12.1->rapids-dask-dependency==25.2.*->cugraph-cu12) (8.6.1)\n",
            "Requirement already satisfied: jinja2>=2.10.3 in /usr/local/lib/python3.11/dist-packages (from distributed==2024.12.1->rapids-dask-dependency==25.2.*->cugraph-cu12) (3.1.5)\n",
            "Requirement already satisfied: locket>=1.0.0 in /usr/local/lib/python3.11/dist-packages (from distributed==2024.12.1->rapids-dask-dependency==25.2.*->cugraph-cu12) (1.0.0)\n",
            "Requirement already satisfied: msgpack>=1.0.2 in /usr/local/lib/python3.11/dist-packages (from distributed==2024.12.1->rapids-dask-dependency==25.2.*->cugraph-cu12) (1.1.0)\n",
            "Requirement already satisfied: psutil>=5.8.0 in /usr/local/lib/python3.11/dist-packages (from distributed==2024.12.1->rapids-dask-dependency==25.2.*->cugraph-cu12) (5.9.5)\n",
            "Requirement already satisfied: sortedcontainers>=2.0.5 in /usr/local/lib/python3.11/dist-packages (from distributed==2024.12.1->rapids-dask-dependency==25.2.*->cugraph-cu12) (2.4.0)\n",
            "Requirement already satisfied: tblib>=1.6.0 in /usr/local/lib/python3.11/dist-packages (from distributed==2024.12.1->rapids-dask-dependency==25.2.*->cugraph-cu12) (3.0.0)\n",
            "Requirement already satisfied: tornado>=6.2.0 in /usr/local/lib/python3.11/dist-packages (from distributed==2024.12.1->rapids-dask-dependency==25.2.*->cugraph-cu12) (6.4.2)\n",
            "Requirement already satisfied: urllib3>=1.26.5 in /usr/local/lib/python3.11/dist-packages (from distributed==2024.12.1->rapids-dask-dependency==25.2.*->cugraph-cu12) (2.3.0)\n",
            "Requirement already satisfied: ucxx-cu12==0.42.* in /usr/local/lib/python3.11/dist-packages (from distributed-ucxx-cu12==0.42.*->raft-dask-cu12==25.2.*->cugraph-cu12) (0.42.0)\n",
            "Requirement already satisfied: nvidia-cublas-cu12 in /usr/local/lib/python3.11/dist-packages (from libraft-cu12==25.2.*->libcugraph-cu12==25.2.*->cugraph-cu12) (12.5.3.2)\n",
            "Requirement already satisfied: nvidia-curand-cu12 in /usr/local/lib/python3.11/dist-packages (from libraft-cu12==25.2.*->libcugraph-cu12==25.2.*->cugraph-cu12) (10.3.6.82)\n",
            "Requirement already satisfied: nvidia-cusolver-cu12 in /usr/local/lib/python3.11/dist-packages (from libraft-cu12==25.2.*->libcugraph-cu12==25.2.*->cugraph-cu12) (11.6.3.83)\n",
            "Requirement already satisfied: nvidia-cusparse-cu12 in /usr/local/lib/python3.11/dist-packages (from libraft-cu12==25.2.*->libcugraph-cu12==25.2.*->cugraph-cu12) (12.5.1.3)\n",
            "Requirement already satisfied: libucxx-cu12==0.42.* in /usr/local/lib/python3.11/dist-packages (from ucxx-cu12==0.42.*->distributed-ucxx-cu12==0.42.*->raft-dask-cu12==25.2.*->cugraph-cu12) (0.42.0)\n",
            "Requirement already satisfied: fastrlock>=0.5 in /usr/local/lib/python3.11/dist-packages (from cupy-cuda12x>=12.0.0->cudf-cu12) (0.8.3)\n",
            "Requirement already satisfied: aiohttp!=4.0.0a0,!=4.0.0a1 in /usr/local/lib/python3.11/dist-packages (from fsspec[http]>=0.6.0->cugraph-cu12) (3.11.13)\n",
            "Requirement already satisfied: llvmlite<0.44,>=0.43.0dev0 in /usr/local/lib/python3.11/dist-packages (from numba<0.61.0a0,>=0.59.1->cudf-cu12) (0.43.0)\n",
            "Requirement already satisfied: python-dateutil>=2.8.2 in /usr/local/lib/python3.11/dist-packages (from pandas<2.2.4dev0,>=2.0->cudf-cu12) (2.8.2)\n",
            "Requirement already satisfied: pytz>=2020.1 in /usr/local/lib/python3.11/dist-packages (from pandas<2.2.4dev0,>=2.0->cudf-cu12) (2025.1)\n",
            "Requirement already satisfied: tzdata>=2022.7 in /usr/local/lib/python3.11/dist-packages (from pandas<2.2.4dev0,>=2.0->cudf-cu12) (2025.1)\n",
            "Requirement already satisfied: nvidia-ml-py<13.0.0a0,>=12.0.0 in /usr/local/lib/python3.11/dist-packages (from pynvml<13.0.0a0,>=12.0.0->dask-cudf-cu12) (12.570.86)\n",
            "Requirement already satisfied: markdown-it-py>=2.2.0 in /usr/local/lib/python3.11/dist-packages (from rich->cudf-cu12) (3.0.0)\n",
            "Requirement already satisfied: pygments<3.0.0,>=2.13.0 in /usr/local/lib/python3.11/dist-packages (from rich->cudf-cu12) (2.18.0)\n",
            "Requirement already satisfied: aiohappyeyeballs>=2.3.0 in /usr/local/lib/python3.11/dist-packages (from aiohttp!=4.0.0a0,!=4.0.0a1->fsspec[http]>=0.6.0->cugraph-cu12) (2.4.6)\n",
            "Requirement already satisfied: aiosignal>=1.1.2 in /usr/local/lib/python3.11/dist-packages (from aiohttp!=4.0.0a0,!=4.0.0a1->fsspec[http]>=0.6.0->cugraph-cu12) (1.3.2)\n",
            "Requirement already satisfied: attrs>=17.3.0 in /usr/local/lib/python3.11/dist-packages (from aiohttp!=4.0.0a0,!=4.0.0a1->fsspec[http]>=0.6.0->cugraph-cu12) (25.1.0)\n",
            "Requirement already satisfied: frozenlist>=1.1.1 in /usr/local/lib/python3.11/dist-packages (from aiohttp!=4.0.0a0,!=4.0.0a1->fsspec[http]>=0.6.0->cugraph-cu12) (1.5.0)\n",
            "Requirement already satisfied: multidict<7.0,>=4.5 in /usr/local/lib/python3.11/dist-packages (from aiohttp!=4.0.0a0,!=4.0.0a1->fsspec[http]>=0.6.0->cugraph-cu12) (6.1.0)\n",
            "Requirement already satisfied: propcache>=0.2.0 in /usr/local/lib/python3.11/dist-packages (from aiohttp!=4.0.0a0,!=4.0.0a1->fsspec[http]>=0.6.0->cugraph-cu12) (0.3.0)\n",
            "Requirement already satisfied: yarl<2.0,>=1.17.0 in /usr/local/lib/python3.11/dist-packages (from aiohttp!=4.0.0a0,!=4.0.0a1->fsspec[http]>=0.6.0->cugraph-cu12) (1.18.3)\n",
            "Requirement already satisfied: mdurl~=0.1 in /usr/local/lib/python3.11/dist-packages (from markdown-it-py>=2.2.0->rich->cudf-cu12) (0.1.2)\n",
            "Requirement already satisfied: six>=1.5 in /usr/local/lib/python3.11/dist-packages (from python-dateutil>=2.8.2->pandas<2.2.4dev0,>=2.0->cudf-cu12) (1.17.0)\n",
            "Requirement already satisfied: zipp>=3.20 in /usr/local/lib/python3.11/dist-packages (from importlib_metadata>=4.13.0->dask==2024.12.1->rapids-dask-dependency==25.2.*->cugraph-cu12) (3.21.0)\n",
            "Requirement already satisfied: MarkupSafe>=2.0 in /usr/local/lib/python3.11/dist-packages (from jinja2>=2.10.3->distributed==2024.12.1->rapids-dask-dependency==25.2.*->cugraph-cu12) (3.0.2)\n",
            "Requirement already satisfied: idna>=2.0 in /usr/local/lib/python3.11/dist-packages (from yarl<2.0,>=1.17.0->aiohttp!=4.0.0a0,!=4.0.0a1->fsspec[http]>=0.6.0->cugraph-cu12) (3.10)\n",
            "Requirement already satisfied: nvidia-nvjitlink-cu12 in /usr/local/lib/python3.11/dist-packages (from nvidia-cusolver-cu12->libraft-cu12==25.2.*->libcugraph-cu12==25.2.*->cugraph-cu12) (12.5.82)\n",
            "Building wheels for collected packages: cugraph-cu12\n",
            "  Building wheel for cugraph-cu12 (pyproject.toml) ... \u001b[?25l\u001b[?25hdone\n",
            "  Created wheel for cugraph-cu12: filename=cugraph_cu12-25.2.0-cp311-cp311-manylinux_2_24_x86_64.manylinux_2_28_x86_64.whl size=3157667 sha256=85fbc95312c1f481ad0875b6676cd7fb1d0e712af1ffc3de9b8113050b464b11\n",
            "  Stored in directory: /root/.cache/pip/wheels/65/e9/b2/df3a92352eed5cc0968c36e95d28ffcf3a2e83d8202a5f4e70\n",
            "Successfully built cugraph-cu12\n",
            "Installing collected packages: cugraph-cu12\n",
            "Successfully installed cugraph-cu12-25.2.0\n"
          ]
        }
      ]
    },
    {
      "cell_type": "markdown",
      "source": [
        "Kurulum sonrası runtime'ı yeniden başlatalım"
      ],
      "metadata": {
        "id": "6hNqu9JqYtXK"
      }
    },
    {
      "cell_type": "code",
      "source": [
        "# Runtime'ı yeniden başlatmak için:\n",
        "# Runtime -> Restart runtime seçeneğini tıklayın\n",
        "# veya\n",
        "import os\n",
        "os.kill(os.getpid(), 9)"
      ],
      "metadata": {
        "id": "dp2NefUVYv2g"
      },
      "execution_count": null,
      "outputs": []
    },
    {
      "cell_type": "markdown",
      "source": [
        "gerekli kütüphaneleri import"
      ],
      "metadata": {
        "id": "zxHCxFWSYQh5"
      }
    },
    {
      "cell_type": "code",
      "source": [
        "# Gerekli kütüphaneleri import et\n",
        "import json\n",
        "import cudf\n",
        "import cugraph\n",
        "from google.colab import files"
      ],
      "metadata": {
        "id": "8NTu9TwiYTzh",
        "outputId": "6a7d2920-64a3-434b-81a3-bfd7773c42b7",
        "colab": {
          "base_uri": "https://localhost:8080/",
          "height": 375
        }
      },
      "execution_count": 5,
      "outputs": [
        {
          "output_type": "error",
          "ename": "ModuleNotFoundError",
          "evalue": "No module named 'cugraph'",
          "traceback": [
            "\u001b[0;31m---------------------------------------------------------------------------\u001b[0m",
            "\u001b[0;31mModuleNotFoundError\u001b[0m                       Traceback (most recent call last)",
            "\u001b[0;32m<ipython-input-5-e16d8054db11>\u001b[0m in \u001b[0;36m<cell line: 0>\u001b[0;34m()\u001b[0m\n\u001b[1;32m      2\u001b[0m \u001b[0;32mimport\u001b[0m \u001b[0mjson\u001b[0m\u001b[0;34m\u001b[0m\u001b[0;34m\u001b[0m\u001b[0m\n\u001b[1;32m      3\u001b[0m \u001b[0;32mimport\u001b[0m \u001b[0mcudf\u001b[0m\u001b[0;34m\u001b[0m\u001b[0;34m\u001b[0m\u001b[0m\n\u001b[0;32m----> 4\u001b[0;31m \u001b[0;32mimport\u001b[0m \u001b[0mcugraph\u001b[0m\u001b[0;34m\u001b[0m\u001b[0;34m\u001b[0m\u001b[0m\n\u001b[0m\u001b[1;32m      5\u001b[0m \u001b[0;32mfrom\u001b[0m \u001b[0mgoogle\u001b[0m\u001b[0;34m.\u001b[0m\u001b[0mcolab\u001b[0m \u001b[0;32mimport\u001b[0m \u001b[0mfiles\u001b[0m\u001b[0;34m\u001b[0m\u001b[0;34m\u001b[0m\u001b[0m\n",
            "\u001b[0;31mModuleNotFoundError\u001b[0m: No module named 'cugraph'",
            "",
            "\u001b[0;31m---------------------------------------------------------------------------\u001b[0;32m\nNOTE: If your import is failing due to a missing package, you can\nmanually install dependencies using either !pip or !apt.\n\nTo view examples of installing some common dependencies, click the\n\"Open Examples\" button below.\n\u001b[0;31m---------------------------------------------------------------------------\u001b[0m\n"
          ],
          "errorDetails": {
            "actions": [
              {
                "action": "open_url",
                "actionText": "Open Examples",
                "url": "/notebooks/snippets/importing_libraries.ipynb"
              }
            ]
          }
        }
      ]
    },
    {
      "cell_type": "markdown",
      "source": [
        "dosya yükleme kodu"
      ],
      "metadata": {
        "id": "i5eg0M5BXgGA"
      }
    },
    {
      "cell_type": "code",
      "source": [
        "# Google Colab'a dosya yükleme için gerekli kütüphane\n",
        "from google.colab import files\n",
        "\n",
        "# Dosya yükleme dialogu\n",
        "print(\"Lütfen spacex_graph_data.json dosyasını yükleyin:\")\n",
        "uploaded = files.upload()\n",
        "\n",
        "# Yüklenen dosyayı kontrol et\n",
        "if 'spacex_graph_data.json' in uploaded:\n",
        "    print(\"Dosya başarıyla yüklendi!\")\n",
        "else:\n",
        "    print(\"Dosya yüklenemedi!\")"
      ],
      "metadata": {
        "id": "Jd5YtX_LXi5g",
        "outputId": "8a28526c-5c7e-4512-bc13-7809d3c60621",
        "colab": {
          "base_uri": "https://localhost:8080/",
          "height": 109
        }
      },
      "execution_count": 2,
      "outputs": [
        {
          "output_type": "stream",
          "name": "stdout",
          "text": [
            "Lütfen spacex_graph_data.json dosyasını yükleyin:\n"
          ]
        },
        {
          "output_type": "display_data",
          "data": {
            "text/plain": [
              "<IPython.core.display.HTML object>"
            ],
            "text/html": [
              "\n",
              "     <input type=\"file\" id=\"files-74839a4e-54b3-4f0c-b06c-175f47b8d6d9\" name=\"files[]\" multiple disabled\n",
              "        style=\"border:none\" />\n",
              "     <output id=\"result-74839a4e-54b3-4f0c-b06c-175f47b8d6d9\">\n",
              "      Upload widget is only available when the cell has been executed in the\n",
              "      current browser session. Please rerun this cell to enable.\n",
              "      </output>\n",
              "      <script>// Copyright 2017 Google LLC\n",
              "//\n",
              "// Licensed under the Apache License, Version 2.0 (the \"License\");\n",
              "// you may not use this file except in compliance with the License.\n",
              "// You may obtain a copy of the License at\n",
              "//\n",
              "//      http://www.apache.org/licenses/LICENSE-2.0\n",
              "//\n",
              "// Unless required by applicable law or agreed to in writing, software\n",
              "// distributed under the License is distributed on an \"AS IS\" BASIS,\n",
              "// WITHOUT WARRANTIES OR CONDITIONS OF ANY KIND, either express or implied.\n",
              "// See the License for the specific language governing permissions and\n",
              "// limitations under the License.\n",
              "\n",
              "/**\n",
              " * @fileoverview Helpers for google.colab Python module.\n",
              " */\n",
              "(function(scope) {\n",
              "function span(text, styleAttributes = {}) {\n",
              "  const element = document.createElement('span');\n",
              "  element.textContent = text;\n",
              "  for (const key of Object.keys(styleAttributes)) {\n",
              "    element.style[key] = styleAttributes[key];\n",
              "  }\n",
              "  return element;\n",
              "}\n",
              "\n",
              "// Max number of bytes which will be uploaded at a time.\n",
              "const MAX_PAYLOAD_SIZE = 100 * 1024;\n",
              "\n",
              "function _uploadFiles(inputId, outputId) {\n",
              "  const steps = uploadFilesStep(inputId, outputId);\n",
              "  const outputElement = document.getElementById(outputId);\n",
              "  // Cache steps on the outputElement to make it available for the next call\n",
              "  // to uploadFilesContinue from Python.\n",
              "  outputElement.steps = steps;\n",
              "\n",
              "  return _uploadFilesContinue(outputId);\n",
              "}\n",
              "\n",
              "// This is roughly an async generator (not supported in the browser yet),\n",
              "// where there are multiple asynchronous steps and the Python side is going\n",
              "// to poll for completion of each step.\n",
              "// This uses a Promise to block the python side on completion of each step,\n",
              "// then passes the result of the previous step as the input to the next step.\n",
              "function _uploadFilesContinue(outputId) {\n",
              "  const outputElement = document.getElementById(outputId);\n",
              "  const steps = outputElement.steps;\n",
              "\n",
              "  const next = steps.next(outputElement.lastPromiseValue);\n",
              "  return Promise.resolve(next.value.promise).then((value) => {\n",
              "    // Cache the last promise value to make it available to the next\n",
              "    // step of the generator.\n",
              "    outputElement.lastPromiseValue = value;\n",
              "    return next.value.response;\n",
              "  });\n",
              "}\n",
              "\n",
              "/**\n",
              " * Generator function which is called between each async step of the upload\n",
              " * process.\n",
              " * @param {string} inputId Element ID of the input file picker element.\n",
              " * @param {string} outputId Element ID of the output display.\n",
              " * @return {!Iterable<!Object>} Iterable of next steps.\n",
              " */\n",
              "function* uploadFilesStep(inputId, outputId) {\n",
              "  const inputElement = document.getElementById(inputId);\n",
              "  inputElement.disabled = false;\n",
              "\n",
              "  const outputElement = document.getElementById(outputId);\n",
              "  outputElement.innerHTML = '';\n",
              "\n",
              "  const pickedPromise = new Promise((resolve) => {\n",
              "    inputElement.addEventListener('change', (e) => {\n",
              "      resolve(e.target.files);\n",
              "    });\n",
              "  });\n",
              "\n",
              "  const cancel = document.createElement('button');\n",
              "  inputElement.parentElement.appendChild(cancel);\n",
              "  cancel.textContent = 'Cancel upload';\n",
              "  const cancelPromise = new Promise((resolve) => {\n",
              "    cancel.onclick = () => {\n",
              "      resolve(null);\n",
              "    };\n",
              "  });\n",
              "\n",
              "  // Wait for the user to pick the files.\n",
              "  const files = yield {\n",
              "    promise: Promise.race([pickedPromise, cancelPromise]),\n",
              "    response: {\n",
              "      action: 'starting',\n",
              "    }\n",
              "  };\n",
              "\n",
              "  cancel.remove();\n",
              "\n",
              "  // Disable the input element since further picks are not allowed.\n",
              "  inputElement.disabled = true;\n",
              "\n",
              "  if (!files) {\n",
              "    return {\n",
              "      response: {\n",
              "        action: 'complete',\n",
              "      }\n",
              "    };\n",
              "  }\n",
              "\n",
              "  for (const file of files) {\n",
              "    const li = document.createElement('li');\n",
              "    li.append(span(file.name, {fontWeight: 'bold'}));\n",
              "    li.append(span(\n",
              "        `(${file.type || 'n/a'}) - ${file.size} bytes, ` +\n",
              "        `last modified: ${\n",
              "            file.lastModifiedDate ? file.lastModifiedDate.toLocaleDateString() :\n",
              "                                    'n/a'} - `));\n",
              "    const percent = span('0% done');\n",
              "    li.appendChild(percent);\n",
              "\n",
              "    outputElement.appendChild(li);\n",
              "\n",
              "    const fileDataPromise = new Promise((resolve) => {\n",
              "      const reader = new FileReader();\n",
              "      reader.onload = (e) => {\n",
              "        resolve(e.target.result);\n",
              "      };\n",
              "      reader.readAsArrayBuffer(file);\n",
              "    });\n",
              "    // Wait for the data to be ready.\n",
              "    let fileData = yield {\n",
              "      promise: fileDataPromise,\n",
              "      response: {\n",
              "        action: 'continue',\n",
              "      }\n",
              "    };\n",
              "\n",
              "    // Use a chunked sending to avoid message size limits. See b/62115660.\n",
              "    let position = 0;\n",
              "    do {\n",
              "      const length = Math.min(fileData.byteLength - position, MAX_PAYLOAD_SIZE);\n",
              "      const chunk = new Uint8Array(fileData, position, length);\n",
              "      position += length;\n",
              "\n",
              "      const base64 = btoa(String.fromCharCode.apply(null, chunk));\n",
              "      yield {\n",
              "        response: {\n",
              "          action: 'append',\n",
              "          file: file.name,\n",
              "          data: base64,\n",
              "        },\n",
              "      };\n",
              "\n",
              "      let percentDone = fileData.byteLength === 0 ?\n",
              "          100 :\n",
              "          Math.round((position / fileData.byteLength) * 100);\n",
              "      percent.textContent = `${percentDone}% done`;\n",
              "\n",
              "    } while (position < fileData.byteLength);\n",
              "  }\n",
              "\n",
              "  // All done.\n",
              "  yield {\n",
              "    response: {\n",
              "      action: 'complete',\n",
              "    }\n",
              "  };\n",
              "}\n",
              "\n",
              "scope.google = scope.google || {};\n",
              "scope.google.colab = scope.google.colab || {};\n",
              "scope.google.colab._files = {\n",
              "  _uploadFiles,\n",
              "  _uploadFilesContinue,\n",
              "};\n",
              "})(self);\n",
              "</script> "
            ]
          },
          "metadata": {}
        },
        {
          "output_type": "stream",
          "name": "stdout",
          "text": [
            "Saving spacex_graph_data.json to spacex_graph_data.json\n",
            "Dosya başarıyla yüklendi!\n"
          ]
        }
      ]
    },
    {
      "cell_type": "markdown",
      "source": [
        " graf oluşturma kodunu"
      ],
      "metadata": {
        "id": "3kagJhfQXlz5"
      }
    },
    {
      "cell_type": "code",
      "source": [
        "# JSON verilerini yükle\n",
        "with open('spacex_graph_data.json', 'r') as f:\n",
        "    graph_data = json.load(f)\n",
        "\n",
        "# Kenar listesini DataFrame'e dönüştür\n",
        "edges_df = cudf.DataFrame(graph_data['edges'])\n",
        "\n",
        "# cuGraph grafı oluştur\n",
        "G = cugraph.Graph()\n",
        "G.from_cudf_edgelist(edges_df, source='source', destination='target')\n",
        "\n",
        "print(f\"Graf yüklendi: {G.number_of_vertices()} düğüm, {G.number_of_edges()} kenar\")"
      ],
      "metadata": {
        "id": "0UCYJ7v4XoCN",
        "outputId": "ef35a79d-06a2-4dac-9f53-ad6c721b4321",
        "colab": {
          "base_uri": "https://localhost:8080/",
          "height": 216
        }
      },
      "execution_count": 4,
      "outputs": [
        {
          "output_type": "error",
          "ename": "NameError",
          "evalue": "name 'json' is not defined",
          "traceback": [
            "\u001b[0;31m---------------------------------------------------------------------------\u001b[0m",
            "\u001b[0;31mNameError\u001b[0m                                 Traceback (most recent call last)",
            "\u001b[0;32m<ipython-input-4-aeb0572606a6>\u001b[0m in \u001b[0;36m<cell line: 0>\u001b[0;34m()\u001b[0m\n\u001b[1;32m      1\u001b[0m \u001b[0;31m# JSON verilerini yükle\u001b[0m\u001b[0;34m\u001b[0m\u001b[0;34m\u001b[0m\u001b[0m\n\u001b[1;32m      2\u001b[0m \u001b[0;32mwith\u001b[0m \u001b[0mopen\u001b[0m\u001b[0;34m(\u001b[0m\u001b[0;34m'spacex_graph_data.json'\u001b[0m\u001b[0;34m,\u001b[0m \u001b[0;34m'r'\u001b[0m\u001b[0;34m)\u001b[0m \u001b[0;32mas\u001b[0m \u001b[0mf\u001b[0m\u001b[0;34m:\u001b[0m\u001b[0;34m\u001b[0m\u001b[0;34m\u001b[0m\u001b[0m\n\u001b[0;32m----> 3\u001b[0;31m     \u001b[0mgraph_data\u001b[0m \u001b[0;34m=\u001b[0m \u001b[0mjson\u001b[0m\u001b[0;34m.\u001b[0m\u001b[0mload\u001b[0m\u001b[0;34m(\u001b[0m\u001b[0mf\u001b[0m\u001b[0;34m)\u001b[0m\u001b[0;34m\u001b[0m\u001b[0;34m\u001b[0m\u001b[0m\n\u001b[0m\u001b[1;32m      4\u001b[0m \u001b[0;34m\u001b[0m\u001b[0m\n\u001b[1;32m      5\u001b[0m \u001b[0;31m# Kenar listesini DataFrame'e dönüştür\u001b[0m\u001b[0;34m\u001b[0m\u001b[0;34m\u001b[0m\u001b[0m\n",
            "\u001b[0;31mNameError\u001b[0m: name 'json' is not defined"
          ]
        }
      ]
    },
    {
      "cell_type": "markdown",
      "source": [
        "spacex_graph_data.json"
      ],
      "metadata": {
        "id": "fc8XLuwETio4"
      }
    },
    {
      "cell_type": "code",
      "source": [
        "# JSON verilerini yükle\n",
        "with open('spacex_graph_data.json', 'r') as f:\n",
        "    graph_data = json.load(f)\n",
        "\n",
        "# Kenar listesini DataFrame'e dönüştür\n",
        "edges_df = cudf.DataFrame(graph_data['edges'])\n",
        "\n",
        "# cuGraph grafı oluştur\n",
        "G = cugraph.Graph()\n",
        "G.from_cudf_edgelist(edges_df, source='source', destination='target')\n",
        "\n",
        "print(f\"Graf yüklendi: {G.number_of_vertices()} düğüm, {G.number_of_edges()} kenar\")\n"
      ],
      "metadata": {
        "id": "mnxfu1xUTeVX",
        "outputId": "c88b124a-3953-4567-9b9b-8af35b5fadb3",
        "colab": {
          "base_uri": "https://localhost:8080/",
          "height": 216
        }
      },
      "execution_count": 1,
      "outputs": [
        {
          "output_type": "error",
          "ename": "FileNotFoundError",
          "evalue": "[Errno 2] No such file or directory: 'spacex_graph_data.json'",
          "traceback": [
            "\u001b[0;31m---------------------------------------------------------------------------\u001b[0m",
            "\u001b[0;31mFileNotFoundError\u001b[0m                         Traceback (most recent call last)",
            "\u001b[0;32m<ipython-input-1-aeb0572606a6>\u001b[0m in \u001b[0;36m<cell line: 0>\u001b[0;34m()\u001b[0m\n\u001b[1;32m      1\u001b[0m \u001b[0;31m# JSON verilerini yükle\u001b[0m\u001b[0;34m\u001b[0m\u001b[0;34m\u001b[0m\u001b[0m\n\u001b[0;32m----> 2\u001b[0;31m \u001b[0;32mwith\u001b[0m \u001b[0mopen\u001b[0m\u001b[0;34m(\u001b[0m\u001b[0;34m'spacex_graph_data.json'\u001b[0m\u001b[0;34m,\u001b[0m \u001b[0;34m'r'\u001b[0m\u001b[0;34m)\u001b[0m \u001b[0;32mas\u001b[0m \u001b[0mf\u001b[0m\u001b[0;34m:\u001b[0m\u001b[0;34m\u001b[0m\u001b[0;34m\u001b[0m\u001b[0m\n\u001b[0m\u001b[1;32m      3\u001b[0m     \u001b[0mgraph_data\u001b[0m \u001b[0;34m=\u001b[0m \u001b[0mjson\u001b[0m\u001b[0;34m.\u001b[0m\u001b[0mload\u001b[0m\u001b[0;34m(\u001b[0m\u001b[0mf\u001b[0m\u001b[0;34m)\u001b[0m\u001b[0;34m\u001b[0m\u001b[0;34m\u001b[0m\u001b[0m\n\u001b[1;32m      4\u001b[0m \u001b[0;34m\u001b[0m\u001b[0m\n\u001b[1;32m      5\u001b[0m \u001b[0;31m# Kenar listesini DataFrame'e dönüştür\u001b[0m\u001b[0;34m\u001b[0m\u001b[0;34m\u001b[0m\u001b[0m\n",
            "\u001b[0;31mFileNotFoundError\u001b[0m: [Errno 2] No such file or directory: 'spacex_graph_data.json'"
          ]
        }
      ]
    },
    {
      "cell_type": "markdown",
      "source": [
        "Kütüphane Kurulumu ve İmportlar"
      ],
      "metadata": {
        "id": "ntVwZ9mmT45i"
      }
    },
    {
      "cell_type": "code",
      "source": [
        "!pip install cudf-cu12 cugraph-cu12 dask-cudf-cu12\n",
        "\n",
        "# Gerekli importlar\n",
        "import cugraph\n",
        "import cudf\n",
        "import json\n",
        "import time\n",
        "import numpy as np"
      ],
      "metadata": {
        "id": "CQ1XBoxpT-Nt"
      },
      "execution_count": null,
      "outputs": []
    },
    {
      "cell_type": "markdown",
      "source": [
        "Veri Yükleme ve Graf Oluşturma:\n"
      ],
      "metadata": {
        "id": "gt7KJ-E-UOzm"
      }
    },
    {
      "cell_type": "code",
      "source": [
        "# JSON verilerini yükle\n",
        "with open('spacex_graph_data.json', 'r') as f:\n",
        "    graph_data = json.load(f)\n",
        "\n",
        "# Kenar listesini DataFrame'e dönüştür\n",
        "edges_df = cudf.DataFrame(graph_data['edges'])\n",
        "\n",
        "# cuGraph grafı oluştur\n",
        "G = cugraph.Graph()\n",
        "G.from_cudf_edgelist(edges_df, source='source', destination='target')\n",
        "\n",
        "print(f\"Graf yüklendi: {G.number_of_vertices()} düğüm, {G.number_of_edges()} kenar\")"
      ],
      "metadata": {
        "id": "ECpyosQLUTzg"
      },
      "execution_count": null,
      "outputs": []
    },
    {
      "cell_type": "markdown",
      "source": [
        "Merkezilik Analizleri"
      ],
      "metadata": {
        "id": "Z4adDGIpUVr2"
      }
    },
    {
      "cell_type": "code",
      "source": [
        "# PageRank analizi\n",
        "pr_results = cugraph.pagerank(G)\n",
        "print(\"PageRank tamamlandı\")\n",
        "\n",
        "# Betweenness Centrality\n",
        "bc_results = cugraph.betweenness_centrality(G)\n",
        "print(\"Betweenness Centrality tamamlandı\")\n",
        "\n",
        "# Degree Centrality\n",
        "dc_results = cugraph.degree_centrality(G)\n",
        "print(\"Degree Centrality tamamlandı\")"
      ],
      "metadata": {
        "id": "JF8Ngh9PUW_E"
      },
      "execution_count": null,
      "outputs": []
    },
    {
      "cell_type": "markdown",
      "source": [
        "Topluluk Tespiti"
      ],
      "metadata": {
        "id": "16Nd8x6bUcPk"
      }
    },
    {
      "cell_type": "code",
      "source": [
        "# Louvain Community Detection\n",
        "communities = cugraph.louvain(G)\n",
        "print(\"Topluluk tespiti tamamlandı\")\n",
        "\n",
        "# Kümeleme katsayıları\n",
        "clustering = cugraph.clustering(G)\n",
        "print(\"Kümeleme analizi tamamlandı\")"
      ],
      "metadata": {
        "id": "SIGJNpTfUdX9"
      },
      "execution_count": null,
      "outputs": []
    },
    {
      "cell_type": "markdown",
      "source": [
        "Sonuçları Birleştirme ve Kaydetme"
      ],
      "metadata": {
        "id": "yVMLP-EcUfKM"
      }
    },
    {
      "cell_type": "code",
      "source": [
        "# Tüm sonuçları bir araya getir\n",
        "gpu_results = {\n",
        "    'centrality': {\n",
        "        'pagerank': pr_results.to_pandas().to_dict(),\n",
        "        'betweenness': bc_results.to_pandas().to_dict(),\n",
        "        'degree': dc_results.to_pandas().to_dict()\n",
        "    },\n",
        "    'community': {\n",
        "        'louvain': communities.to_pandas().to_dict(),\n",
        "        'clustering': clustering.to_pandas().to_dict()\n",
        "    }\n",
        "}\n",
        "\n",
        "# Sonuçları JSON olarak kaydet\n",
        "with open('gpu_analysis_results.json', 'w') as f:\n",
        "    json.dump(gpu_results, f, indent=2)\n",
        "\n",
        "print(\"Sonuçlar kaydedildi\")"
      ],
      "metadata": {
        "id": "mTTF4XtdUhIm"
      },
      "execution_count": null,
      "outputs": []
    },
    {
      "cell_type": "markdown",
      "source": [
        "Görselleştirme"
      ],
      "metadata": {
        "id": "Hd6I7g2nUi3g"
      }
    },
    {
      "cell_type": "code",
      "source": [
        "import matplotlib.pyplot as plt\n",
        "\n",
        "# PageRank dağılımı\n",
        "plt.figure(figsize=(10, 6))\n",
        "plt.hist(pr_results['pagerank'].to_array(), bins=30)\n",
        "plt.title('PageRank Dağılımı')\n",
        "plt.xlabel('PageRank Değeri')\n",
        "plt.ylabel('Düğüm Sayısı')\n",
        "plt.show()\n",
        "\n",
        "# Topluluk boyutları\n",
        "community_sizes = communities['partition'].value_counts()\n",
        "plt.figure(figsize=(10, 6))\n",
        "plt.bar(range(len(community_sizes)), community_sizes.values)\n",
        "plt.title('Topluluk Boyutları')\n",
        "plt.xlabel('Topluluk ID')\n",
        "plt.ylabel('Düğüm Sayısı')\n",
        "plt.show()"
      ],
      "metadata": {
        "id": "JO10pU--Ups8"
      },
      "execution_count": null,
      "outputs": []
    },
    {
      "cell_type": "markdown",
      "source": [
        "Sonuçları İndirme"
      ],
      "metadata": {
        "id": "kTPPrSlhUsdx"
      }
    },
    {
      "cell_type": "code",
      "source": [
        "from google.colab import files\n",
        "files.download('gpu_analysis_results.json')"
      ],
      "metadata": {
        "id": "B7gMfxQxUtsQ"
      },
      "execution_count": null,
      "outputs": []
    }
  ]
}